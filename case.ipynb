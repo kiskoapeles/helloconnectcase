{
 "cells": [
  {
   "cell_type": "code",
   "execution_count": 1,
   "metadata": {},
   "outputs": [],
   "source": [
    "import pandas as pd\n",
    "import sqlite3\n",
    "\n",
    "# Connect to the database\n",
    "temp_path = './database.db'\n",
    "connection = sqlite3.connect(temp_path)"
   ]
  },
  {
   "cell_type": "markdown",
   "metadata": {},
   "source": [
    "**1) Create a Python function to read in the files in the <database.db> file and count the number of records and show the schema/columns for each table.**"
   ]
  },
  {
   "cell_type": "code",
   "execution_count": 2,
   "metadata": {},
   "outputs": [
    {
     "name": "stdout",
     "output_type": "stream",
     "text": [
      "Columns in table `albums`: ['AlbumId', 'Title', 'ArtistId']\n",
      "Number of records: 347\n",
      "------------------------------------------------------------------------------------------\n",
      "Columns in table `sqlite_sequence`: ['name', 'seq']\n",
      "Number of records: 10\n",
      "------------------------------------------------------------------------------------------\n",
      "Columns in table `artists`: ['ArtistId', 'Name']\n",
      "Number of records: 275\n",
      "------------------------------------------------------------------------------------------\n",
      "Columns in table `customers`: ['CustomerId', 'FirstName', 'LastName', 'Company', 'Address', 'City', 'State', 'Country', 'PostalCode', 'Phone', 'Fax', 'Email', 'SupportRepId']\n",
      "Number of records: 59\n",
      "------------------------------------------------------------------------------------------\n",
      "Columns in table `employees`: ['EmployeeId', 'LastName', 'FirstName', 'Title', 'ReportsTo', 'BirthDate', 'HireDate', 'Address', 'City', 'State', 'Country', 'PostalCode', 'Phone', 'Fax', 'Email']\n",
      "Number of records: 8\n",
      "------------------------------------------------------------------------------------------\n",
      "Columns in table `genres`: ['GenreId', 'Name']\n",
      "Number of records: 25\n",
      "------------------------------------------------------------------------------------------\n",
      "Columns in table `invoices`: ['InvoiceId', 'CustomerId', 'InvoiceDate', 'BillingAddress', 'BillingCity', 'BillingState', 'BillingCountry', 'BillingPostalCode', 'Total']\n",
      "Number of records: 412\n",
      "------------------------------------------------------------------------------------------\n",
      "Columns in table `invoice_items`: ['InvoiceLineId', 'InvoiceId', 'TrackId', 'UnitPrice', 'Quantity']\n",
      "Number of records: 2240\n",
      "------------------------------------------------------------------------------------------\n",
      "Columns in table `media_types`: ['MediaTypeId', 'Name']\n",
      "Number of records: 5\n",
      "------------------------------------------------------------------------------------------\n",
      "Columns in table `playlists`: ['PlaylistId', 'Name']\n",
      "Number of records: 18\n",
      "------------------------------------------------------------------------------------------\n",
      "Columns in table `playlist_track`: ['PlaylistId', 'TrackId']\n",
      "Number of records: 8715\n",
      "------------------------------------------------------------------------------------------\n",
      "Columns in table `tracks`: ['TrackId', 'Name', 'AlbumId', 'MediaTypeId', 'GenreId', 'Composer', 'Milliseconds', 'Bytes', 'UnitPrice']\n",
      "Number of records: 3503\n",
      "------------------------------------------------------------------------------------------\n",
      "Columns in table `sqlite_stat1`: ['tbl', 'idx', 'stat']\n",
      "Number of records: 15\n",
      "------------------------------------------------------------------------------------------\n"
     ]
    }
   ],
   "source": [
    "def get_tables_and_columns(connection):\n",
    "    # Get the list of tables in the database\n",
    "    query = \"SELECT name FROM sqlite_master WHERE type='table';\"\n",
    "    tables = pd.read_sql(query, connection)\n",
    "    table_list = tables['name'].tolist()\n",
    "    # Get the columns of each table\n",
    "    for table_name in table_list:\n",
    "        query = f\"SELECT * FROM {table_name};\"\n",
    "        temp_df = pd.read_sql(query, connection)\n",
    "        print(f'Columns in table `{table_name}`:', temp_df.columns.to_list())\n",
    "        print('Number of records:', temp_df.shape[0])\n",
    "        print('-'*90)\n",
    "get_tables_and_columns(connection)"
   ]
  },
  {
   "cell_type": "markdown",
   "metadata": {},
   "source": [
    "**a) By viewing the ERD image, do you think this Database is a Snowflake or a Star schema?**\n",
    "\n",
    "That is a snowflake schema because of the normalization."
   ]
  },
  {
   "cell_type": "markdown",
   "metadata": {},
   "source": [
    "**b) How many different Customers are there?**"
   ]
  },
  {
   "cell_type": "code",
   "execution_count": 3,
   "metadata": {},
   "outputs": [
    {
     "data": {
      "text/plain": [
       "59"
      ]
     },
     "execution_count": 3,
     "metadata": {},
     "output_type": "execute_result"
    }
   ],
   "source": [
    "query = 'SELECT COUNT(DISTINCT CustomerId) AS UniqueCustomerCount FROM customers;'\n",
    "temp_df = pd.read_sql_query(query, connection)\n",
    "int(temp_df['UniqueCustomerCount'].iloc[0])"
   ]
  },
  {
   "cell_type": "markdown",
   "metadata": {},
   "source": [
    "**c) Which Genre has the shortest average track length, in minutes?**"
   ]
  },
  {
   "cell_type": "code",
   "execution_count": 4,
   "metadata": {},
   "outputs": [
    {
     "data": {
      "text/plain": [
       "'Rock And Roll'"
      ]
     },
     "execution_count": 4,
     "metadata": {},
     "output_type": "execute_result"
    }
   ],
   "source": [
    "query = \"SELECT GenreId, Milliseconds FROM tracks;\"\n",
    "temp_df = pd.read_sql_query(query, connection)\n",
    "temp_df = temp_df.groupby('GenreId')['Milliseconds'].mean()\n",
    "temp_df = temp_df.apply(lambda x:x/1000/60)\n",
    "temp_df = temp_df.sort_values().reset_index()\n",
    "query = \"SELECT * FROM genres;\"\n",
    "temp_df1 = pd.read_sql_query(query, connection)\n",
    "temp_df.merge(temp_df1, left_on='GenreId', right_on='GenreId', how='left').rename(columns={'Milliseconds':'Minutes'}).iloc[0]['Name']"
   ]
  },
  {
   "cell_type": "markdown",
   "metadata": {},
   "source": [
    "**d) Using the ‘playlists’ table, can you tell me the name of the artist that appears the\n",
    "most in playlists?**"
   ]
  },
  {
   "cell_type": "code",
   "execution_count": 5,
   "metadata": {},
   "outputs": [
    {
     "data": {
      "text/plain": [
       "'Iron Maiden'"
      ]
     },
     "execution_count": 5,
     "metadata": {},
     "output_type": "execute_result"
    }
   ],
   "source": [
    "#Get tables needed to arrive at answer\n",
    "query = \"SELECT * FROM playlist_track;\"\n",
    "temp_df = pd.read_sql_query(query, connection)\n",
    "query = \"SELECT TrackId, AlbumId FROM tracks;\"\n",
    "temp_df1 = pd.read_sql_query(query, connection)\n",
    "query = \"SELECT AlbumId, ArtistId FROM albums;\"\n",
    "temp_df2 = pd.read_sql_query(query, connection)\n",
    "query = \"SELECT * FROM artists;\"\n",
    "temp_df3 = pd.read_sql_query(query, connection)\n",
    "#Merge and get result\n",
    "merge_df = temp_df.merge(temp_df1, left_on='TrackId', right_on='TrackId', how='left')\n",
    "merge_df = merge_df.merge(temp_df2, left_on='AlbumId', right_on='AlbumId', how='left')\n",
    "res_df = merge_df.groupby('ArtistId').size().reset_index().sort_values(by=0)\n",
    "res_df = res_df.merge(temp_df3, left_on='ArtistId', right_on='ArtistId')\n",
    "res_df.iloc[-1]['Name']"
   ]
  },
  {
   "cell_type": "markdown",
   "metadata": {},
   "source": [
    "**e) What is the count of Customers who have bought more than $40 of tracks?**"
   ]
  },
  {
   "cell_type": "code",
   "execution_count": 6,
   "metadata": {},
   "outputs": [
    {
     "data": {
      "text/plain": [
       "14"
      ]
     },
     "execution_count": 6,
     "metadata": {},
     "output_type": "execute_result"
    }
   ],
   "source": [
    "#Get tables needed to arrive at answer\n",
    "query = \"SELECT InvoiceId, CustomerId FROM invoices;\"\n",
    "temp_df = pd.read_sql_query(query, connection)\n",
    "query = \"SELECT InvoiceLineId, InvoiceId, UnitPrice, Quantity FROM invoice_items;\"\n",
    "temp_df1 = pd.read_sql_query(query, connection)\n",
    "#Merge and get result\n",
    "merge_df = temp_df.merge(temp_df1, left_on='InvoiceId', right_on='InvoiceId', how='left')\n",
    "merge_df['Revenue'] = merge_df['UnitPrice']*merge_df['Quantity']\n",
    "res_df = merge_df.groupby('CustomerId')['Revenue'].sum()\n",
    "res_df = res_df[res_df > 40]\n",
    "res_df.size"
   ]
  },
  {
   "cell_type": "markdown",
   "metadata": {},
   "source": [
    "**f) Which Key did you use the most?**"
   ]
  },
  {
   "cell_type": "markdown",
   "metadata": {},
   "source": [
    "CustomerId (referenced in two questions)"
   ]
  },
  {
   "cell_type": "code",
   "execution_count": 7,
   "metadata": {},
   "outputs": [],
   "source": [
    "# Close the connection\n",
    "connection.close()"
   ]
  }
 ],
 "metadata": {
  "kernelspec": {
   "display_name": "base",
   "language": "python",
   "name": "python3"
  },
  "language_info": {
   "codemirror_mode": {
    "name": "ipython",
    "version": 3
   },
   "file_extension": ".py",
   "mimetype": "text/x-python",
   "name": "python",
   "nbconvert_exporter": "python",
   "pygments_lexer": "ipython3",
   "version": "3.11.2"
  }
 },
 "nbformat": 4,
 "nbformat_minor": 2
}
